{
 "cells": [
  {
   "cell_type": "code",
   "execution_count": 12,
   "metadata": {},
   "outputs": [],
   "source": [
    "otimo = 1040444.375\n",
    "#Facilidades\n",
    "Faci = 'A', 'B', 'C', 'D'\n",
    "#Clientes\n",
    "Client  = range(1, 10)\n",
    "\n",
    "#custo para abrir a facilidade\n",
    "FixCost = [500, 600, 700, 800]\n",
    "\n",
    "# Capacidade de uma instalação em cada local\n",
    "Capacity = [40, 55, 73, 90]\n",
    "\n",
    "#Demanda de cada cliente\n",
    "Demand = [10, 14, 17, 8, 9, 12, 11, 15,16]\n",
    "\n",
    "# custo de transporte de cada facilidade para cada cliente \n",
    "Transportation = [\n",
    "   [55, 4,17, 33, 47,98,19,10, 6],\n",
    "   [42, 12,  4, 23, 16, 78,47, 9,82], \n",
    "   [17, 34, 65, 25, 7, 67, 45, 13, 54],\n",
    "   [60,  8, 79, 24, 28, 19, 62, 18, 45]\n",
    "]\n",
    "Sol = [\n",
    "    []\n",
    "]"
   ]
  },
  {
   "cell_type": "code",
   "execution_count": 13,
   "metadata": {},
   "outputs": [
    {
     "ename": "SyntaxError",
     "evalue": "unexpected EOF while parsing (<ipython-input-13-cc9f90171a2c>, line 6)",
     "output_type": "error",
     "traceback": [
      "\u001b[0;36m  File \u001b[0;32m\"<ipython-input-13-cc9f90171a2c>\"\u001b[0;36m, line \u001b[0;32m6\u001b[0m\n\u001b[0;31m    \u001b[0m\n\u001b[0m    ^\u001b[0m\n\u001b[0;31mSyntaxError\u001b[0m\u001b[0;31m:\u001b[0m unexpected EOF while parsing\n"
     ]
    }
   ],
   "source": [
    "def funcObj(Sol):\n",
    "    for Cliente in Sol:\n",
    "            \n",
    "    \n",
    "    \n",
    "    "
   ]
  },
  {
   "cell_type": "code",
   "execution_count": 104,
   "metadata": {},
   "outputs": [],
   "source": [
    "def guloso():\n",
    "    a = 0\n",
    "    so = []\n",
    "    sol = []\n",
    "    if(sum(Demand)>sum(Capacity)):\n",
    "        print(\"1\")\n",
    "    else:\n",
    "        for demandClient in Demand:  \n",
    "            print(a)\n",
    "            for Facilidade in Transportation:            \n",
    "                so.append(Facilidade[a])\n",
    "            if(demandClient < Facilidade[a])\n",
    "                sol.append(min(so))\n",
    "                demandClient = demandClient - Facilidade[a] \n",
    "            else: \n",
    "                \n",
    "            del so[:]\n",
    "            a = a+1\n",
    "            \n",
    "    print(so)\n",
    "    print(sol)\n",
    "    #so.append(Custo);\n",
    "    #sol.append(min(so))\n",
    "\n",
    "    \n",
    "\n"
   ]
  },
  {
   "cell_type": "code",
   "execution_count": 105,
   "metadata": {},
   "outputs": [
    {
     "name": "stdout",
     "output_type": "stream",
     "text": [
      "0\n",
      "1\n",
      "2\n",
      "3\n",
      "4\n",
      "5\n",
      "6\n",
      "7\n",
      "8\n",
      "[]\n",
      "[17, 4, 4, 23, 7, 19, 19, 9, 6]\n"
     ]
    }
   ],
   "source": [
    "guloso()"
   ]
  },
  {
   "cell_type": "code",
   "execution_count": 106,
   "metadata": {},
   "outputs": [
    {
     "data": {
      "text/plain": [
       "9"
      ]
     },
     "execution_count": 106,
     "metadata": {},
     "output_type": "execute_result"
    }
   ],
   "source": [
    "len(Client)"
   ]
  },
  {
   "cell_type": "code",
   "execution_count": null,
   "metadata": {},
   "outputs": [],
   "source": []
  }
 ],
 "metadata": {
  "kernelspec": {
   "display_name": "Python 3",
   "language": "python",
   "name": "python3"
  },
  "language_info": {
   "codemirror_mode": {
    "name": "ipython",
    "version": 3
   },
   "file_extension": ".py",
   "mimetype": "text/x-python",
   "name": "python",
   "nbconvert_exporter": "python",
   "pygments_lexer": "ipython3",
   "version": "3.6.5"
  }
 },
 "nbformat": 4,
 "nbformat_minor": 2
}
