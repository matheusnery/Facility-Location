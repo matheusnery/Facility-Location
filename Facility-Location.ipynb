{
 "cells": [
  {
   "cell_type": "code",
   "execution_count": 1,
   "metadata": {
    "collapsed": true
   },
   "outputs": [],
   "source": [
    "otimo = 1040444.375\n",
    "#Facilidades\n",
    "Faci = 'A', 'B', 'C', 'D'\n",
    "#Clientes\n",
    "Client  = range(1, 10)\n",
    "\n",
    "#custo para abrir a facilidade\n",
    "fixCost = [500, 600, 700, 800]\n",
    "\n",
    "# Capacidade de uma instala��o em cada local\n",
    "Capacity = [40, 55, 73, 90]\n",
    "\n",
    "#Demanda de cada cliente\n",
    "Demand = [10, 14, 17, 8, 9, 12, 11, 15, 16]\n",
    "\n",
    "# custo de transporte de cada facilidade para cada cliente \n",
    "Transportation = [\n",
    "   [55, 4, 17, 33, 47, 98, 19, 10, 6],\n",
    "   [42, 12,  4, 23, 16, 78,47, 9, 82], \n",
    "   [17, 34, 65, 25, 7, 67, 45, 13, 54],\n",
    "   [60,  8, 79, 24, 28, 19, 62, 18, 45]\n",
    "]\n",
    "Sol = [\n",
    "    []\n",
    "]"
   ]
  },
  {
   "cell_type": "code",
   "execution_count": 35,
   "metadata": {
    "collapsed": true
   },
   "outputs": [],
   "source": [
    "def funcObj(Sol):\n",
    "    a=0\n",
    "    s=[]\n",
    "    sol =0\n",
    "    #[2, 2, 2, 1, 1, 3, 0, 3, 3]\n",
    "    for teste in Transportation:\n",
    "            s.append(teste)\n",
    "    for i in Sol:\n",
    "        sol += s[a][i]\n",
    "    c = []\n",
    "    fc =0\n",
    "    for elemento in Sol:\n",
    "        if elemento not in c:\n",
    "            fc += fixCost[elemento]\n",
    "    sol = sol+fc        \n",
    "    a =a+1\n",
    "    return sol   "
   ]
  },
  {
   "cell_type": "code",
   "execution_count": 36,
   "metadata": {
    "collapsed": true
   },
   "outputs": [],
   "source": [
    "otimo = 1040444.375\n",
    "#Facilidades\n",
    "Faci = 'A', 'B', 'C', 'D'\n",
    "#Clientes\n",
    "Client  = range(1, 10)\n",
    "\n",
    "#custo para abrir a facilidade\n",
    "fixCost = [500, 600, 700, 800]\n",
    "\n",
    "# Capacidade de uma instala��o em cada local\n",
    "Capacity = [40, 55, 73, 90]\n",
    "\n",
    "#Demanda de cada cliente\n",
    "Demand = [10, 14, 17, 8, 9, 12, 11, 15, 16]\n",
    "\n",
    "# custo de transporte de cada facilidade para cada cliente \n",
    "Transportation = [\n",
    "   [55, 4, 17, 33, 47, 98, 19, 10, 6],\n",
    "   [42, 12,  4, 23, 16, 78,47, 9, 82], \n",
    "   [17, 34, 65, 25, 7, 67, 45, 13, 54],\n",
    "   [60,  8, 79, 24, 28, 19, 62, 18, 45]\n",
    "]\n",
    "Sol = [\n",
    "    []\n",
    "]\n",
    "def guloso():\n",
    "    demanda = Demand\n",
    "    #capacidade = Capacity\n",
    "    custo = fixCost\n",
    "    so = []\n",
    "    solu = []\n",
    "    ac=[]\n",
    "    a=0\n",
    "    if(sum(Demand)>sum(Capacity)):\n",
    "        print(\"1\")\n",
    "    else:\n",
    "        for demandClient in Demand:             \n",
    "            #print(demandClient)\n",
    "            for Facilidade in Transportation:            \n",
    "                so.append(Facilidade[a])               \n",
    "            b=0\n",
    "            if(demandClient < min(so)):\n",
    "                solu.append(so.index(min(so)))\n",
    "                Capacity[so.index(min(so))] = Capacity[so.index(min(so))] - demandClient \n",
    "                \n",
    "            else:\n",
    "                for i in so:\n",
    "                    if (demandClient < i):\n",
    "                        ac.append(i)\n",
    "                    else:\n",
    "                        ac.append(999999999999999999)\n",
    "                \n",
    "                solu.append(ac.index(min(ac)))\n",
    "                #Capacity[ac.index(min(ac))] = Capacity[ac.index(min(ac))] - demandClient\n",
    "                        \n",
    "                    \n",
    "            #print(so)\n",
    "            del ac[:]\n",
    "            del so[:]\n",
    "            #print(a)\n",
    "            a = a+1\n",
    "            \n",
    "            \n",
    "\n",
    "        #print(so)\n",
    "        #print(solu)\n",
    "        #so.append(Custo);\n",
    "        #sol.append(min(so))\n",
    "        return solu\n",
    "\n",
    "    \n"
   ]
  },
  {
   "cell_type": "code",
   "execution_count": 58,
   "metadata": {},
   "outputs": [
    {
     "name": "stdout",
     "output_type": "stream",
     "text": [
      "[2, 2, 2, 1, 1, 3, 0, 3, 3]\n"
     ]
    },
    {
     "data": {
      "text/plain": [
       "6413"
      ]
     },
     "execution_count": 58,
     "metadata": {},
     "output_type": "execute_result"
    }
   ],
   "source": [
    "a = guloso()\n",
    "print(a)\n",
    "funcObj(a)"
   ]
  },
  {
   "cell_type": "code",
   "execution_count": 57,
   "metadata": {},
   "outputs": [
    {
     "name": "stdout",
     "output_type": "stream",
     "text": [
      "4995\n"
     ]
    }
   ],
   "source": [
    "from random import *\n",
    "def gerar(Clientes,Facilidades):   \n",
    "    tamanho = int(Clientes)\n",
    "    resposta = [0] * tamanho\n",
    "    for i in range(tamanho):\n",
    "        resposta[i] = randint(0,Facilidades)\n",
    "    return resposta\n",
    "a=gerar(9,3)\n",
    "funcObj(a)\n",
    "\n",
    "def hillClimbing(Sol,Cliente,Fac):\n",
    "    a =True\n",
    "    cont = 0\n",
    "    while(a):\n",
    "        escolhidoC = randint(0,Cliente -2)        \n",
    "        escolhidoF = randint(0,Fac-1)\n",
    "        while(escolhidoF == Sol[escolhidoC]):\n",
    "            escolhidoF = randint(0,Fac-1);\n",
    "        aux = funcObj(Sol);   \n",
    "        aux2 = Sol[escolhidoC]\n",
    "        Sol[escolhidoC] = escolhidoF\n",
    "        #Ver se troca é viável\n",
    "        if(aux <= funcObj(Sol)):\n",
    "            Sol[escolhidoC] = aux2\n",
    "            cont+=1\n",
    "            #Atualizar  Demanda \n",
    "            \n",
    "        else:\n",
    "            cont=0\n",
    "        if(cont == 100):\n",
    "            a = False;        \n",
    "    return aux\n",
    "\n",
    "print(hillClimbing(a,10,4))\n"
   ]
  },
  {
   "cell_type": "code",
   "execution_count": null,
   "metadata": {},
   "outputs": [],
   "source": [
    "\n",
    "        "
   ]
  },
  {
   "cell_type": "code",
   "execution_count": null,
   "metadata": {
    "collapsed": true
   },
   "outputs": [],
   "source": []
  }
 ],
 "metadata": {
  "kernelspec": {
   "display_name": "Python 3",
   "language": "python",
   "name": "python3"
  },
  "language_info": {
   "codemirror_mode": {
    "name": "ipython",
    "version": 3
   },
   "file_extension": ".py",
   "mimetype": "text/x-python",
   "name": "python",
   "nbconvert_exporter": "python",
   "pygments_lexer": "ipython3",
   "version": "3.6.2"
  }
 },
 "nbformat": 4,
 "nbformat_minor": 2
}
